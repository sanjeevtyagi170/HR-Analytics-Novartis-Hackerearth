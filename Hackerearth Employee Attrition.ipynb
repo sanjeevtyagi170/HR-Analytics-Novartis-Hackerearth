{
 "cells": [
  {
   "cell_type": "code",
   "execution_count": 171,
   "metadata": {},
   "outputs": [],
   "source": [
    "import pandas as pd\n",
    "import numpy as np\n",
    "import glob\n",
    "import seaborn as sns\n",
    "import xgboost as xgb\n",
    "#from sklearn.compose import ColumnTransformer\n",
    "import matplotlib.pyplot as plt\n",
    "from sklearn.preprocessing import StandardScaler\n",
    "#,LabelEncoder\n",
    "#,FunctionTransformer\n",
    "from sklearn.impute import KNNImputer\n",
    "from sklearn.model_selection import train_test_split,RandomizedSearchCV\n",
    "#,GridSearchCV\n",
    "from sklearn.metrics import mean_squared_error\n",
    "from sklearn.linear_model import Ridge,ElasticNetCV,LarsCV,BayesianRidge\n",
    "from sklearn.ensemble import RandomForestRegressor,GradientBoostingRegressor,VotingRegressor\n",
    "from sklearn.decomposition import TruncatedSVD\n",
    "from sklearn.svm import SVR\n",
    "from sklearn.feature_selection import RFECV\n",
    "impute=KNNImputer(n_neighbors=16)\n",
    "#label=LabelEncoder()\n",
    "ss=StandardScaler()\n",
    "pd.options.display.float_format = '{:.10f}'.format\n",
    "pd.options.display.max_columns=50"
   ]
  },
  {
   "cell_type": "code",
   "execution_count": 170,
   "metadata": {},
   "outputs": [],
   "source": [
    "def eval_metric(actual,predcitions):\n",
    "    score=100*max(0,1-np.sqrt(mean_squared_error(actual,predcitions)))\n",
    "    return score"
   ]
  },
  {
   "cell_type": "code",
   "execution_count": 172,
   "metadata": {},
   "outputs": [
    {
     "name": "stdout",
     "output_type": "stream",
     "text": [
      "(7000, 24) (3000, 23)\n"
     ]
    }
   ],
   "source": [
    "filenames=glob.glob('/idn/home/styag29/test1/empl*.csv')\n",
    "test,train=[pd.read_csv(f) for f in filenames]\n",
    "print(train.shape,test.shape)"
   ]
  },
  {
   "cell_type": "raw",
   "metadata": {},
   "source": [
    "def gender(x):\n",
    "    if x==\"F\":\n",
    "        return 0.1849355615\n",
    "    elif x==\"M\":\n",
    "        return 0.1957061677\n",
    "\n",
    "train.Gender=train.Gender.apply(lambda x: gender(x))\n",
    "train.Gender=train.Gender.astype('float')\n",
    "\n",
    "def relationship_status(x):\n",
    "    if x==\"Married\":\n",
    "        return 0.1881232080\n",
    "    elif x==\"Single\":\n",
    "        return 0.1916596774\n",
    "\n",
    "train.Relationship_Status=train.Relationship_Status.apply(lambda x: relationship_status(x))\n",
    "train.Relationship_Status=train.Relationship_Status.astype('float')\n",
    "\n",
    "def hometown(x):\n",
    "    if x==\"Clinton\":\n",
    "        return 0.1884644248\n",
    "    elif x==\"Franklin\":\n",
    "        return 0.1879009192\n",
    "    elif x==\"Lebanon\":\n",
    "        return 0.1870194686\n",
    "    elif x==\"Springfield\":\n",
    "        return 0.1940837558\n",
    "    elif x==\"Washington\":\n",
    "        return 0.1888948463\n",
    "\n",
    "train.Hometown=train.Hometown.apply(lambda x: hometown(x))\n",
    "train.Hometown=train.Hometown.astype('float')\n",
    "\n",
    "def unit(x):\n",
    "    if x==\"Accounting and Finance\":\n",
    "        return 0.1873620968\n",
    "    elif x==\"Human Resource Management\":\n",
    "        return 0.1846165698\n",
    "    elif x==\"IT\":\n",
    "        return 0.1809847202\n",
    "    elif x==\"Logistics\":\n",
    "        return 0.1843791134\n",
    "    elif x==\"Marketing\":\n",
    "        return 0.1919221698\n",
    "    elif x==\"Operarions\":\n",
    "        return 0.1977766289\n",
    "    elif x==\"Production\":\n",
    "        return 0.1907421801\n",
    "    elif x==\"Purchasing\":\n",
    "        return 0.1995648810\n",
    "    elif x==\"Quality\":\n",
    "        return 0.1856756477\n",
    "    elif x==\"R&D\":\n",
    "        return 0.1972289706\n",
    "    elif x==\"Sales\":\n",
    "        return 0.1930425239\n",
    "    elif x==\"Security\":\n",
    "        return 0.1908923611\n",
    "\n",
    "train.Unit=train.Unit.apply(lambda x: unit(x))\n",
    "train.Unit=train.Unit.astype('float')\n",
    "\n",
    "def decision(x):\n",
    "    if x==\"Analytical\":\n",
    "        return 0.1884700855\n",
    "    elif x==\"Behavioral\":\n",
    "        return 0.1804737327\n",
    "    elif x==\"Conceptual\":\n",
    "        return 0.1946941913\n",
    "    elif x==\"Directive\":\n",
    "        return 0.1937721050\n",
    "\n",
    "train.Decision_skill_possess=train.Decision_skill_possess.apply(lambda x: decision(x))\n",
    "train.Decision_skill_possess=train.Decision_skill_possess.astype('float')\n",
    "\n",
    "def compensation(x):\n",
    "    if x==\"type0\":\n",
    "        return 0.2195395722\n",
    "    elif x==\"type1\":\n",
    "        return 0.2032157895\n",
    "    elif x==\"type2\":\n",
    "        return 0.1902379975\n",
    "    elif x==\"type3\":\n",
    "        return 0.1847530227\n",
    "    elif x==\"type4\":\n",
    "        return 0.1897470255\n",
    "\n",
    "train.Compensation_and_Benefits=train.Compensation_and_Benefits.apply(lambda x: compensation(x))\n",
    "train.Compensation_and_Benefits=train.Compensation_and_Benefits.astype('float')\n",
    "\n",
    "def var7(x):\n",
    "    if x==1:\n",
    "        return 0.1935710801\n",
    "    elif x==2:\n",
    "        return 0.1979344498\n",
    "    elif x==3:\n",
    "        return 0.1887650280\n",
    "    elif x==4:\n",
    "        return 0.1911103030\n",
    "    elif x==5:\n",
    "        return 0.1816857143\n",
    "\n",
    "train.VAR7=train.VAR7.apply(lambda x: var7(x))\n",
    "train.VAR7=train.VAR7.astype('float')"
   ]
  },
  {
   "cell_type": "code",
   "execution_count": 173,
   "metadata": {},
   "outputs": [],
   "source": [
    "#train.Unit=np.log1p(train.Unit)"
   ]
  },
  {
   "cell_type": "code",
   "execution_count": 283,
   "metadata": {},
   "outputs": [],
   "source": [
    "cat=train.select_dtypes(include='object').drop('Employee_ID',axis=1)\n",
    "cat_vars=pd.DataFrame(pd.get_dummies(cat,prefix_sep='_',prefix='C',drop_first=True))"
   ]
  },
  {
   "cell_type": "code",
   "execution_count": 284,
   "metadata": {},
   "outputs": [],
   "source": [
    "num=train.select_dtypes(exclude='object').drop('Attrition_rate',axis=1)\n",
    "num_vars=pd.DataFrame(impute.fit_transform(num),columns=num.columns)"
   ]
  },
  {
   "cell_type": "code",
   "execution_count": 285,
   "metadata": {},
   "outputs": [],
   "source": [
    "train_scaled=train[['Employee_ID','Attrition_rate']].join(\n",
    "    pd.DataFrame(ss.fit_transform(num_vars.join(cat_vars)),columns=num_vars.columns.append(cat_vars.columns)))"
   ]
  },
  {
   "cell_type": "code",
   "execution_count": 287,
   "metadata": {},
   "outputs": [],
   "source": [
    "#plt.figure(figsize=(25,17))\n",
    "#sns.heatmap(train_scaled.drop(['Employee_ID+Age+Education_Level','Relationship_Status','Time_of_service+Time_since_promotion',\n",
    "#                               'growth_rate+Travel_Rate+Pay_Scale+VAR1+VAR2+VAR3+VAR4+VAR5+VAR6','VAR7',\n",
    "#                               'Attrition_rate'],axis=1).corr(),linecolor='white',linewidths=.1,cmap='YlGnBu',annot=True,fmt='.1f')"
   ]
  },
  {
   "cell_type": "code",
   "execution_count": 288,
   "metadata": {},
   "outputs": [],
   "source": [
    "#fig,ax=plt.subplots(1,2)\n",
    "#sns.distplot(X_train.growth_rate,ax=ax[0])\n",
    "#sns.distplot(np.log1p(X_train.Unit),ax=ax[1])\n",
    "#sns.distplot(np.power(X_train.Time_of_service,.6),ax=ax[1])\n",
    "#sns.distplot(X_train.Time_since_promotion,ax=ax[3])\n",
    "#print(train.columns)\n",
    "#top10"
   ]
  },
  {
   "cell_type": "code",
   "execution_count": 286,
   "metadata": {},
   "outputs": [
    {
     "data": {
      "text/plain": [
       "81.04748766248835"
      ]
     },
     "execution_count": 286,
     "metadata": {},
     "output_type": "execute_result"
    }
   ],
   "source": [
    "X=train_scaled.drop(['Employee_ID','Attrition_rate','C_IT','C_Washington','C_type4','C_Quality','C_Production','C_Directive'\n",
    ",'VAR3','Work_Life_balance','Education_Level','C_Lebanon','Time_since_promotion','Age','VAR1','VAR7','C_type1','C_Logistics'\n",
    ",'C_Marketing','C_Franklin','Post_Level','C_Operarions','C_Springfield','C_Conceptual','C_Security','C_R&D'],axis=1)\n",
    "#,'Age','VAR5','Compensation_and_Benefits','VAR4','VAR3','VAR1','Relationship_Status','Time_since_promotion'\n",
    "y=train_scaled.Attrition_rate\n",
    "X_train, X_test, y_train, y_test = train_test_split(X, y, test_size=0.2, random_state=42,shuffle=True)\n",
    "xgreg=xgb.XGBRegressor(objective='reg:squarederror',learning_rate=.3,random_state=123,\n",
    "                       n_estimators=200,max_depth=2,booster='gbtree',subsample=.3,reg_lambda=1,reg_alpha=.5)\n",
    "xgreg.fit(X_train,y_train)\n",
    "eval_metric(y_test,xgreg.predict(X_test))"
   ]
  },
  {
   "cell_type": "markdown",
   "metadata": {},
   "source": [
    "# Test Dataset"
   ]
  },
  {
   "cell_type": "raw",
   "metadata": {},
   "source": [
    "test.Gender=test.Gender.apply(lambda x: gender(x))\n",
    "test.Gender=test.Gender.astype('float')\n",
    "test.Relationship_Status=test.Relationship_Status.apply(lambda x: relationship_status(x))\n",
    "test.Relationship_Status=test.Relationship_Status.astype('float')\n",
    "test.Hometown=test.Hometown.apply(lambda x: hometown(x))\n",
    "test.Hometown=test.Hometown.astype('float')\n",
    "test.Unit=test.Unit.apply(lambda x: unit(x))\n",
    "test.Unit=test.Unit.astype('float')\n",
    "test.Decision_skill_possess=test.Decision_skill_possess.apply(lambda x: decision(x))\n",
    "test.Decision_skill_possess=test.Decision_skill_possess.astype('float')\n",
    "test.Compensation_and_Benefits=test.Compensation_and_Benefits.apply(lambda x: compensation(x))\n",
    "test.Compensation_and_Benefits=test.Compensation_and_Benefits.astype('float')\n",
    "test.VAR7=test.VAR7.apply(lambda x: var7(x))\n",
    "test.VAR7=test.VAR7.astype('float')"
   ]
  },
  {
   "cell_type": "code",
   "execution_count": 280,
   "metadata": {},
   "outputs": [],
   "source": [
    "cat_test=test.select_dtypes(include='object').drop('Employee_ID',axis=1)\n",
    "cat_test_vars=pd.DataFrame(pd.get_dummies(cat_test,prefix_sep='_',prefix='C',drop_first=True))"
   ]
  },
  {
   "cell_type": "code",
   "execution_count": 281,
   "metadata": {},
   "outputs": [],
   "source": [
    "num_test=test.select_dtypes(exclude='object')\n",
    "num_test_vars=pd.DataFrame(impute.fit_transform(num_test),columns=num_test.columns)"
   ]
  },
  {
   "cell_type": "code",
   "execution_count": 282,
   "metadata": {},
   "outputs": [],
   "source": [
    "test_scaled=test[['Employee_ID']].join(pd.DataFrame(ss.fit_transform(num_test_vars.join(cat_test_vars)),columns=\n",
    "                                                    num_test_vars.columns.append(cat_test_vars.columns)))\n",
    "                                       \n",
    "test_final=test_scaled.drop(['Employee_ID','C_IT','C_Washington','C_type4','C_Quality','C_Production','C_Directive'\n",
    ",'VAR3','Work_Life_balance','Education_Level','C_Lebanon','Time_since_promotion','Age','VAR1','VAR7','C_type1','C_Logistics'\n",
    ",'C_Marketing','C_Franklin','Post_Level','C_Operarions','C_Springfield','C_Conceptual','C_Security','C_R&D'],axis=1)\n",
    "#,'Age','VAR5','Compensation_and_Benefits','VAR4','VAR3','VAR1','Relationship_Status','Time_since_promotion'"
   ]
  },
  {
   "cell_type": "markdown",
   "metadata": {},
   "source": [
    "# XGBOOST"
   ]
  },
  {
   "cell_type": "code",
   "execution_count": 184,
   "metadata": {},
   "outputs": [
    {
     "data": {
      "text/plain": [
       "81.42578270529339"
      ]
     },
     "execution_count": 184,
     "metadata": {},
     "output_type": "execute_result"
    }
   ],
   "source": [
    "xgreg=xgb.XGBRegressor(objective='reg:squarederror',learning_rate=.03,random_state=123,\n",
    "                       n_estimators=200,max_depth=2,booster='gbtree',subsample=.3,reg_lambda=1,reg_alpha=.5)\n",
    "xgreg.fit(X_train,y_train)\n",
    "eval_metric(y_test,xgreg.predict(X_test))"
   ]
  },
  {
   "cell_type": "code",
   "execution_count": 185,
   "metadata": {},
   "outputs": [],
   "source": [
    "test_preds_xgb=xgreg.predict(test_final)\n",
    "submission = pd.DataFrame({\"Employee_ID\": test.Employee_ID,\"Attrition_rate\": test_preds_xgb},columns=['Employee_ID','Attrition_rate'])\n",
    "submission.to_csv('submission_xgb.csv', index=False)"
   ]
  },
  {
   "cell_type": "code",
   "execution_count": 186,
   "metadata": {},
   "outputs": [],
   "source": [
    "#Feature importance \n",
    "#xg_reg_feature_imp=pd.DataFrame({'feature':X_train.columns,'importance':xgreg.feature_importances_}).sort_values('importance',ascending=False)\n",
    "#plt.figure(figsize=(20,6))\n",
    "#sns.barplot(xg_reg_feature_imp.feature,xg_reg_feature_imp.importance,color='purple')"
   ]
  },
  {
   "cell_type": "code",
   "execution_count": 328,
   "metadata": {},
   "outputs": [],
   "source": [
    "top10=xg_reg_feature_imp.sort_values('importance',ascending=False).iloc[:]"
   ]
  },
  {
   "cell_type": "markdown",
   "metadata": {},
   "source": [
    "# Cross Validation"
   ]
  },
  {
   "cell_type": "code",
   "execution_count": 188,
   "metadata": {},
   "outputs": [],
   "source": [
    "gbm=xgb.XGBRegressor(objective='reg:squarederror',booster='gbtree')"
   ]
  },
  {
   "cell_type": "code",
   "execution_count": 189,
   "metadata": {},
   "outputs": [],
   "source": [
    "xgb_param_grid = {  \n",
    "    'learning_rate':[0.01,.001,0.1,0.5,0.9,1,1.5,2,10],\n",
    "    'n_estimators': [100,200,300],\n",
    "    'max_depth': [1,3,5,10,15,20],\n",
    "    'subsample': [0.3, 0.5, 0.9],\n",
    "    \n",
    "}\n",
    "#'reg_alpha':[.1,.2,.5,.8,1],\n",
    "#    'reg_lambda':[.1,.2,.5,.8,1],"
   ]
  },
  {
   "cell_type": "code",
   "execution_count": 190,
   "metadata": {},
   "outputs": [],
   "source": [
    "random_grid=RandomizedSearchCV(gbm,param_distributions=xgb_param_grid,cv=5)"
   ]
  },
  {
   "cell_type": "code",
   "execution_count": 80,
   "metadata": {},
   "outputs": [],
   "source": [
    "#random_grid.fit(X_train,y_train)"
   ]
  },
  {
   "cell_type": "code",
   "execution_count": 81,
   "metadata": {},
   "outputs": [],
   "source": [
    "#random_grid.best_params_"
   ]
  },
  {
   "cell_type": "markdown",
   "metadata": {},
   "source": [
    "# Deep Learning"
   ]
  },
  {
   "cell_type": "code",
   "execution_count": 289,
   "metadata": {},
   "outputs": [],
   "source": [
    "import keras\n",
    "from keras.layers import Dense\n",
    "from keras.models import Sequential\n",
    "from keras.callbacks import EarlyStopping"
   ]
  },
  {
   "cell_type": "code",
   "execution_count": 325,
   "metadata": {},
   "outputs": [],
   "source": [
    "early_stop=EarlyStopping(monitor='val_loss',patience=3)\n",
    "model=Sequential()\n",
    "model.add(Dense(38,input_shape=(16,),activation='relu'))\n",
    "model.add(Dense(10,activation='tanh'))\n",
    "model.add(Dense(2,activation='relu'))\n",
    "model.add(Dense(1,activation='relu'))\n",
    "model.add(Dense(1))\n",
    "model.compile(optimizer='adam',loss='mse')"
   ]
  },
  {
   "cell_type": "code",
   "execution_count": 326,
   "metadata": {},
   "outputs": [
    {
     "name": "stdout",
     "output_type": "stream",
     "text": [
      "Train on 5600 samples, validate on 1400 samples\n",
      "Epoch 1/100\n",
      "5600/5600 [==============================] - 3s 571us/step - loss: 0.0547 - val_loss: 0.0455\n",
      "Epoch 2/100\n",
      "5600/5600 [==============================] - 0s 23us/step - loss: 0.0384 - val_loss: 0.0367\n",
      "Epoch 3/100\n",
      "5600/5600 [==============================] - 0s 26us/step - loss: 0.0354 - val_loss: 0.0355\n",
      "Epoch 4/100\n",
      "5600/5600 [==============================] - 0s 25us/step - loss: 0.0347 - val_loss: 0.0353\n",
      "Epoch 5/100\n",
      "5600/5600 [==============================] - 0s 25us/step - loss: 0.0345 - val_loss: 0.0351\n",
      "Epoch 6/100\n",
      "5600/5600 [==============================] - 0s 24us/step - loss: 0.0344 - val_loss: 0.0351\n",
      "Epoch 7/100\n",
      "5600/5600 [==============================] - 0s 26us/step - loss: 0.0343 - val_loss: 0.0350\n",
      "Epoch 8/100\n",
      "5600/5600 [==============================] - 0s 25us/step - loss: 0.0342 - val_loss: 0.0350\n",
      "Epoch 9/100\n",
      "5600/5600 [==============================] - 0s 25us/step - loss: 0.0342 - val_loss: 0.0350\n",
      "Epoch 10/100\n",
      "5600/5600 [==============================] - 0s 27us/step - loss: 0.0341 - val_loss: 0.0349\n",
      "Epoch 11/100\n",
      "5600/5600 [==============================] - 0s 29us/step - loss: 0.0340 - val_loss: 0.0350\n",
      "Epoch 12/100\n",
      "5600/5600 [==============================] - 0s 27us/step - loss: 0.0340 - val_loss: 0.0349\n",
      "Epoch 13/100\n",
      "5600/5600 [==============================] - 0s 24us/step - loss: 0.0339 - val_loss: 0.0350\n",
      "Epoch 14/100\n",
      "5600/5600 [==============================] - 0s 24us/step - loss: 0.0339 - val_loss: 0.0350\n",
      "Epoch 15/100\n",
      "5600/5600 [==============================] - 0s 24us/step - loss: 0.0338 - val_loss: 0.0350\n"
     ]
    },
    {
     "data": {
      "text/plain": [
       "81.29670255481103"
      ]
     },
     "execution_count": 326,
     "metadata": {},
     "output_type": "execute_result"
    }
   ],
   "source": [
    "model.fit(X_train,y_train,epochs=100,validation_data=(X_test,y_test),batch_size=100,callbacks=[early_stop])\n",
    "eval_metric(y_test,model.predict(X_test))"
   ]
  },
  {
   "cell_type": "code",
   "execution_count": 327,
   "metadata": {},
   "outputs": [],
   "source": [
    "#>81.35265105154596\n",
    "test_preds_deep_learn=model.predict(test_final)\n",
    "submission = pd.DataFrame({\"Employee_ID\": test.Employee_ID,\"Attrition_rate\":None},columns=['Employee_ID','Attrition_rate'])\n",
    "submission[[\"Attrition_rate\"]]=test_preds_deep_learn\n",
    "submission.to_csv('submission_deep_learn.csv', index=False)"
   ]
  },
  {
   "cell_type": "code",
   "execution_count": 315,
   "metadata": {},
   "outputs": [
    {
     "name": "stdout",
     "output_type": "stream",
     "text": [
      "_________________________________________________________________\n",
      "Layer (type)                 Output Shape              Param #   \n",
      "=================================================================\n",
      "dense_214 (Dense)            (None, 38)                646       \n",
      "_________________________________________________________________\n",
      "dense_215 (Dense)            (None, 10)                390       \n",
      "_________________________________________________________________\n",
      "dense_216 (Dense)            (None, 2)                 22        \n",
      "_________________________________________________________________\n",
      "dense_217 (Dense)            (None, 1)                 3         \n",
      "_________________________________________________________________\n",
      "dense_218 (Dense)            (None, 1)                 2         \n",
      "=================================================================\n",
      "Total params: 1,063\n",
      "Trainable params: 1,063\n",
      "Non-trainable params: 0\n",
      "_________________________________________________________________\n",
      "None\n"
     ]
    }
   ],
   "source": [
    "print(model.summary())"
   ]
  }
 ],
 "metadata": {
  "kernelspec": {
   "display_name": "Python 3",
   "language": "python",
   "name": "python3"
  },
  "language_info": {
   "codemirror_mode": {
    "name": "ipython",
    "version": 3
   },
   "file_extension": ".py",
   "mimetype": "text/x-python",
   "name": "python",
   "nbconvert_exporter": "python",
   "pygments_lexer": "ipython3",
   "version": "3.5.3"
  }
 },
 "nbformat": 4,
 "nbformat_minor": 4
}
